{
 "cells": [
  {
   "cell_type": "markdown",
   "id": "efebe75b",
   "metadata": {},
   "source": [
    "## Exploratory Data Analysis :"
   ]
  },
  {
   "cell_type": "code",
   "execution_count": 348,
   "id": "26d1d825",
   "metadata": {},
   "outputs": [],
   "source": [
    "#importing required packages\n",
    "import pandas as pd\n",
    "import numpy as np\n",
    "import seaborn as sns\n",
    "import warnings\n",
    "warnings.filterwarnings(\"ignore\")\n",
    "import matplotlib.pyplot as plt\n",
    "from sklearn.feature_extraction.text import CountVectorizer\n",
    "from sklearn.feature_selection import mutual_info_classif\n",
    "from scipy.sparse import hstack\n",
    "from sklearn.preprocessing import Normalizer\n",
    "from sklearn.feature_selection import chi2\n",
    "from sklearn.ensemble import RandomForestClassifier\n",
    "SEED = 42\n",
    "from sklearn.model_selection import train_test_split\n",
    "from sklearn.model_selection import cross_val_score, KFold, StratifiedKFold\n",
    "from sklearn.linear_model import LogisticRegression\n",
    "from sklearn.neighbors import KNeighborsClassifier\n",
    "from sklearn.naive_bayes import GaussianNB, BernoulliNB, MultinomialNB\n",
    "from sklearn.tree import DecisionTreeClassifier\n",
    "from sklearn.ensemble import RandomForestClassifier\n",
    "from sklearn.svm import LinearSVC, SVC\n",
    "from xgboost import XGBClassifier\n",
    "from sklearn.metrics import confusion_matrix, classification_report\n",
    "from sklearn.metrics import accuracy_score, precision_score, recall_score, f1_score, auc, roc_curve, log_loss\n",
    "from sklearn.ensemble import GradientBoostingClassifier\n",
    "from sklearn.preprocessing import LabelEncoder, StandardScaler"
   ]
  },
  {
   "cell_type": "code",
   "execution_count": 254,
   "id": "5a045298",
   "metadata": {},
   "outputs": [],
   "source": [
    "#Reading the dataset\n",
    "data = pd.read_csv(\"watson_healthcare_modified.csv\")"
   ]
  },
  {
   "cell_type": "code",
   "execution_count": 255,
   "id": "5e4687bd",
   "metadata": {},
   "outputs": [
    {
     "data": {
      "text/html": [
       "<div>\n",
       "<style scoped>\n",
       "    .dataframe tbody tr th:only-of-type {\n",
       "        vertical-align: middle;\n",
       "    }\n",
       "\n",
       "    .dataframe tbody tr th {\n",
       "        vertical-align: top;\n",
       "    }\n",
       "\n",
       "    .dataframe thead th {\n",
       "        text-align: right;\n",
       "    }\n",
       "</style>\n",
       "<table border=\"1\" class=\"dataframe\">\n",
       "  <thead>\n",
       "    <tr style=\"text-align: right;\">\n",
       "      <th></th>\n",
       "      <th>EmployeeID</th>\n",
       "      <th>Age</th>\n",
       "      <th>Attrition</th>\n",
       "      <th>BusinessTravel</th>\n",
       "      <th>DailyRate</th>\n",
       "      <th>Department</th>\n",
       "      <th>DistanceFromHome</th>\n",
       "      <th>Education</th>\n",
       "      <th>EducationField</th>\n",
       "      <th>EmployeeCount</th>\n",
       "      <th>...</th>\n",
       "      <th>RelationshipSatisfaction</th>\n",
       "      <th>StandardHours</th>\n",
       "      <th>Shift</th>\n",
       "      <th>TotalWorkingYears</th>\n",
       "      <th>TrainingTimesLastYear</th>\n",
       "      <th>WorkLifeBalance</th>\n",
       "      <th>YearsAtCompany</th>\n",
       "      <th>YearsInCurrentRole</th>\n",
       "      <th>YearsSinceLastPromotion</th>\n",
       "      <th>YearsWithCurrManager</th>\n",
       "    </tr>\n",
       "  </thead>\n",
       "  <tbody>\n",
       "    <tr>\n",
       "      <th>0</th>\n",
       "      <td>1313919</td>\n",
       "      <td>41</td>\n",
       "      <td>No</td>\n",
       "      <td>Travel_Rarely</td>\n",
       "      <td>1102</td>\n",
       "      <td>Cardiology</td>\n",
       "      <td>1</td>\n",
       "      <td>2</td>\n",
       "      <td>Life Sciences</td>\n",
       "      <td>1</td>\n",
       "      <td>...</td>\n",
       "      <td>1</td>\n",
       "      <td>80</td>\n",
       "      <td>0</td>\n",
       "      <td>8</td>\n",
       "      <td>0</td>\n",
       "      <td>1</td>\n",
       "      <td>6</td>\n",
       "      <td>4</td>\n",
       "      <td>0</td>\n",
       "      <td>5</td>\n",
       "    </tr>\n",
       "    <tr>\n",
       "      <th>1</th>\n",
       "      <td>1200302</td>\n",
       "      <td>49</td>\n",
       "      <td>No</td>\n",
       "      <td>Travel_Frequently</td>\n",
       "      <td>279</td>\n",
       "      <td>Maternity</td>\n",
       "      <td>8</td>\n",
       "      <td>1</td>\n",
       "      <td>Life Sciences</td>\n",
       "      <td>1</td>\n",
       "      <td>...</td>\n",
       "      <td>4</td>\n",
       "      <td>80</td>\n",
       "      <td>1</td>\n",
       "      <td>10</td>\n",
       "      <td>3</td>\n",
       "      <td>3</td>\n",
       "      <td>10</td>\n",
       "      <td>7</td>\n",
       "      <td>1</td>\n",
       "      <td>7</td>\n",
       "    </tr>\n",
       "    <tr>\n",
       "      <th>2</th>\n",
       "      <td>1060315</td>\n",
       "      <td>37</td>\n",
       "      <td>Yes</td>\n",
       "      <td>Travel_Rarely</td>\n",
       "      <td>1373</td>\n",
       "      <td>Maternity</td>\n",
       "      <td>2</td>\n",
       "      <td>2</td>\n",
       "      <td>Other</td>\n",
       "      <td>1</td>\n",
       "      <td>...</td>\n",
       "      <td>2</td>\n",
       "      <td>80</td>\n",
       "      <td>0</td>\n",
       "      <td>7</td>\n",
       "      <td>3</td>\n",
       "      <td>3</td>\n",
       "      <td>0</td>\n",
       "      <td>0</td>\n",
       "      <td>0</td>\n",
       "      <td>0</td>\n",
       "    </tr>\n",
       "    <tr>\n",
       "      <th>3</th>\n",
       "      <td>1272912</td>\n",
       "      <td>33</td>\n",
       "      <td>No</td>\n",
       "      <td>Travel_Frequently</td>\n",
       "      <td>1392</td>\n",
       "      <td>Maternity</td>\n",
       "      <td>3</td>\n",
       "      <td>4</td>\n",
       "      <td>Life Sciences</td>\n",
       "      <td>1</td>\n",
       "      <td>...</td>\n",
       "      <td>3</td>\n",
       "      <td>80</td>\n",
       "      <td>0</td>\n",
       "      <td>8</td>\n",
       "      <td>3</td>\n",
       "      <td>3</td>\n",
       "      <td>8</td>\n",
       "      <td>7</td>\n",
       "      <td>3</td>\n",
       "      <td>0</td>\n",
       "    </tr>\n",
       "    <tr>\n",
       "      <th>4</th>\n",
       "      <td>1414939</td>\n",
       "      <td>27</td>\n",
       "      <td>No</td>\n",
       "      <td>Travel_Rarely</td>\n",
       "      <td>591</td>\n",
       "      <td>Maternity</td>\n",
       "      <td>2</td>\n",
       "      <td>1</td>\n",
       "      <td>Medical</td>\n",
       "      <td>1</td>\n",
       "      <td>...</td>\n",
       "      <td>4</td>\n",
       "      <td>80</td>\n",
       "      <td>1</td>\n",
       "      <td>6</td>\n",
       "      <td>3</td>\n",
       "      <td>3</td>\n",
       "      <td>2</td>\n",
       "      <td>2</td>\n",
       "      <td>2</td>\n",
       "      <td>2</td>\n",
       "    </tr>\n",
       "  </tbody>\n",
       "</table>\n",
       "<p>5 rows × 35 columns</p>\n",
       "</div>"
      ],
      "text/plain": [
       "   EmployeeID  Age Attrition     BusinessTravel  DailyRate  Department  \\\n",
       "0     1313919   41        No      Travel_Rarely       1102  Cardiology   \n",
       "1     1200302   49        No  Travel_Frequently        279   Maternity   \n",
       "2     1060315   37       Yes      Travel_Rarely       1373   Maternity   \n",
       "3     1272912   33        No  Travel_Frequently       1392   Maternity   \n",
       "4     1414939   27        No      Travel_Rarely        591   Maternity   \n",
       "\n",
       "   DistanceFromHome  Education EducationField  EmployeeCount  ...  \\\n",
       "0                 1          2  Life Sciences              1  ...   \n",
       "1                 8          1  Life Sciences              1  ...   \n",
       "2                 2          2          Other              1  ...   \n",
       "3                 3          4  Life Sciences              1  ...   \n",
       "4                 2          1        Medical              1  ...   \n",
       "\n",
       "   RelationshipSatisfaction StandardHours  Shift  TotalWorkingYears  \\\n",
       "0                         1            80      0                  8   \n",
       "1                         4            80      1                 10   \n",
       "2                         2            80      0                  7   \n",
       "3                         3            80      0                  8   \n",
       "4                         4            80      1                  6   \n",
       "\n",
       "   TrainingTimesLastYear WorkLifeBalance  YearsAtCompany YearsInCurrentRole  \\\n",
       "0                      0               1               6                  4   \n",
       "1                      3               3              10                  7   \n",
       "2                      3               3               0                  0   \n",
       "3                      3               3               8                  7   \n",
       "4                      3               3               2                  2   \n",
       "\n",
       "   YearsSinceLastPromotion  YearsWithCurrManager  \n",
       "0                        0                     5  \n",
       "1                        1                     7  \n",
       "2                        0                     0  \n",
       "3                        3                     0  \n",
       "4                        2                     2  \n",
       "\n",
       "[5 rows x 35 columns]"
      ]
     },
     "execution_count": 255,
     "metadata": {},
     "output_type": "execute_result"
    }
   ],
   "source": [
    "#printing first 5 rows\n",
    "data.head()"
   ]
  },
  {
   "cell_type": "code",
   "execution_count": 256,
   "id": "88f3e607",
   "metadata": {},
   "outputs": [
    {
     "data": {
      "text/plain": [
       "(1676, 35)"
      ]
     },
     "execution_count": 256,
     "metadata": {},
     "output_type": "execute_result"
    }
   ],
   "source": [
    "#checking the shape of the data\n",
    "data.shape"
   ]
  },
  {
   "cell_type": "code",
   "execution_count": 257,
   "id": "5d7289b1",
   "metadata": {},
   "outputs": [
    {
     "name": "stdout",
     "output_type": "stream",
     "text": [
      "<class 'pandas.core.frame.DataFrame'>\n",
      "RangeIndex: 1676 entries, 0 to 1675\n",
      "Data columns (total 35 columns):\n",
      " #   Column                    Non-Null Count  Dtype \n",
      "---  ------                    --------------  ----- \n",
      " 0   EmployeeID                1676 non-null   int64 \n",
      " 1   Age                       1676 non-null   int64 \n",
      " 2   Attrition                 1676 non-null   object\n",
      " 3   BusinessTravel            1676 non-null   object\n",
      " 4   DailyRate                 1676 non-null   int64 \n",
      " 5   Department                1676 non-null   object\n",
      " 6   DistanceFromHome          1676 non-null   int64 \n",
      " 7   Education                 1676 non-null   int64 \n",
      " 8   EducationField            1676 non-null   object\n",
      " 9   EmployeeCount             1676 non-null   int64 \n",
      " 10  EnvironmentSatisfaction   1676 non-null   int64 \n",
      " 11  Gender                    1676 non-null   object\n",
      " 12  HourlyRate                1676 non-null   int64 \n",
      " 13  JobInvolvement            1676 non-null   int64 \n",
      " 14  JobLevel                  1676 non-null   int64 \n",
      " 15  JobRole                   1676 non-null   object\n",
      " 16  JobSatisfaction           1676 non-null   int64 \n",
      " 17  MaritalStatus             1676 non-null   object\n",
      " 18  MonthlyIncome             1676 non-null   int64 \n",
      " 19  MonthlyRate               1676 non-null   int64 \n",
      " 20  NumCompaniesWorked        1676 non-null   int64 \n",
      " 21  Over18                    1676 non-null   object\n",
      " 22  OverTime                  1676 non-null   object\n",
      " 23  PercentSalaryHike         1676 non-null   int64 \n",
      " 24  PerformanceRating         1676 non-null   int64 \n",
      " 25  RelationshipSatisfaction  1676 non-null   int64 \n",
      " 26  StandardHours             1676 non-null   int64 \n",
      " 27  Shift                     1676 non-null   int64 \n",
      " 28  TotalWorkingYears         1676 non-null   int64 \n",
      " 29  TrainingTimesLastYear     1676 non-null   int64 \n",
      " 30  WorkLifeBalance           1676 non-null   int64 \n",
      " 31  YearsAtCompany            1676 non-null   int64 \n",
      " 32  YearsInCurrentRole        1676 non-null   int64 \n",
      " 33  YearsSinceLastPromotion   1676 non-null   int64 \n",
      " 34  YearsWithCurrManager      1676 non-null   int64 \n",
      "dtypes: int64(26), object(9)\n",
      "memory usage: 458.4+ KB\n"
     ]
    }
   ],
   "source": [
    "#checking the columns\n",
    "data.info()"
   ]
  },
  {
   "cell_type": "markdown",
   "id": "61612ad6",
   "metadata": {},
   "source": [
    "Observation : We notice that none of the fields have Nan values"
   ]
  },
  {
   "cell_type": "code",
   "execution_count": 258,
   "id": "f251fd4a",
   "metadata": {},
   "outputs": [
    {
     "name": "stdout",
     "output_type": "stream",
     "text": [
      "\n",
      "No. of Unique values:\n",
      "EmployeeID                  1676\n",
      "Age                           43\n",
      "Attrition                      2\n",
      "BusinessTravel                 3\n",
      "DailyRate                    886\n",
      "Department                     3\n",
      "DistanceFromHome              29\n",
      "Education                      5\n",
      "EducationField                 6\n",
      "EmployeeCount                  1\n",
      "EnvironmentSatisfaction        4\n",
      "Gender                         2\n",
      "HourlyRate                    71\n",
      "JobInvolvement                 4\n",
      "JobLevel                       5\n",
      "JobRole                        5\n",
      "JobSatisfaction                4\n",
      "MaritalStatus                  3\n",
      "MonthlyIncome               1349\n",
      "MonthlyRate                 1427\n",
      "NumCompaniesWorked            10\n",
      "Over18                         1\n",
      "OverTime                       2\n",
      "PercentSalaryHike             15\n",
      "PerformanceRating              2\n",
      "RelationshipSatisfaction       4\n",
      "StandardHours                  1\n",
      "Shift                          4\n",
      "TotalWorkingYears             40\n",
      "TrainingTimesLastYear          7\n",
      "WorkLifeBalance                4\n",
      "YearsAtCompany                37\n",
      "YearsInCurrentRole            19\n",
      "YearsSinceLastPromotion       16\n",
      "YearsWithCurrManager          18\n",
      "dtype: int64\n"
     ]
    }
   ],
   "source": [
    "# printing no. of unique values\n",
    "print('\\nNo. of Unique values:')\n",
    "print(data.nunique())"
   ]
  },
  {
   "cell_type": "code",
   "execution_count": 259,
   "id": "3f61475d",
   "metadata": {},
   "outputs": [
    {
     "name": "stdout",
     "output_type": "stream",
     "text": [
      "No     1477\n",
      "Yes     199\n",
      "Name: Attrition, dtype: int64\n",
      "No     0.881265\n",
      "Yes    0.118735\n",
      "Name: Attrition, dtype: float64\n"
     ]
    },
    {
     "data": {
      "text/plain": [
       "Text(0.5, 1.0, 'Attrition')"
      ]
     },
     "execution_count": 259,
     "metadata": {},
     "output_type": "execute_result"
    },
    {
     "data": {
      "image/png": "[encoded data removed]",
      "text/plain": [
       "<Figure size 504x504 with 1 Axes>"
      ]
     },
     "metadata": {
      "needs_background": "light"
     },
     "output_type": "display_data"
    }
   ],
   "source": [
    "#checking whether the dataset is balanced or imbalanced\n",
    "print(data.Attrition.value_counts())\n",
    "print(data.Attrition.value_counts(normalize=True))\n",
    "data['Attrition'].value_counts().plot(kind='bar', color=('C0','C1')).set_title('Attrition')"
   ]
  },
  {
   "cell_type": "markdown",
   "id": "aa2d132f",
   "metadata": {},
   "source": [
    "Observation : 12% of the total employees left the company, while the other 88% of the employees retained in the same company. The given dataset is imbalanced."
   ]
  },
  {
   "cell_type": "markdown",
   "id": "b105aa00",
   "metadata": {},
   "source": [
    "Finding correlation between variables :"
   ]
  },
  {
   "cell_type": "code",
   "execution_count": 260,
   "id": "0be17134",
   "metadata": {},
   "outputs": [],
   "source": [
    "data_correlation = data.corr()"
   ]
  },
  {
   "cell_type": "code",
   "execution_count": 261,
   "id": "48f72d4c",
   "metadata": {},
   "outputs": [
    {
     "data": {
      "text/plain": [
       "<AxesSubplot:>"
      ]
     },
     "execution_count": 261,
     "metadata": {},
     "output_type": "execute_result"
    },
    {
     "data": {
      "image/png": "[encoded data removed]",
      "text/plain": [
       "<Figure size 1080x720 with 2 Axes>"
      ]
     },
     "metadata": {
      "needs_background": "light"
     },
     "output_type": "display_data"
    }
   ],
   "source": [
    "plt.rcParams[\"figure.figsize\"] = [15,10]\n",
    "sns.heatmap(data_correlation,xticklabels=data_correlation.columns,yticklabels=data_correlation.columns)"
   ]
  },
  {
   "cell_type": "markdown",
   "id": "90de3a1d",
   "metadata": {},
   "source": [
    "Observations :\n",
    "1.Monthly income is highly correlated with Job level & Total working years.\n",
    "2.Job level is highly correlated with total working years.\n",
    "3.Age is correlated with the Total working years.\n",
    "4.Years at company is highly correlated with years in cuurent role & years with current manager"
   ]
  },
  {
   "cell_type": "markdown",
   "id": "b44882a1",
   "metadata": {},
   "source": [
    "### Univariate Analysis :"
   ]
  },
  {
   "cell_type": "markdown",
   "id": "c64eab45",
   "metadata": {},
   "source": [
    "#### Age :"
   ]
  },
  {
   "cell_type": "code",
   "execution_count": 262,
   "id": "1c31e3cd",
   "metadata": {},
   "outputs": [
    {
     "data": {
      "text/plain": [
       "(array([  0.,  18., 367., 701., 395., 190.,   5.]),\n",
       " array([ 0, 10, 20, 30, 40, 50, 60, 70]),\n",
       " <BarContainer object of 7 artists>)"
      ]
     },
     "execution_count": 262,
     "metadata": {},
     "output_type": "execute_result"
    },
    {
     "data": {
      "image/png": "[encoded data removed]",
      "text/plain": [
       "<Figure size 504x504 with 1 Axes>"
      ]
     },
     "metadata": {
      "needs_background": "light"
     },
     "output_type": "display_data"
    }
   ],
   "source": [
    "# distribution of age\n",
    "plt.rcParams[\"figure.figsize\"] = [7,7]\n",
    "plt.hist(data['Age'],bins=np.arange(0,80,10),alpha=0.8,rwidth=0.9)"
   ]
  },
  {
   "cell_type": "markdown",
   "id": "f119547a",
   "metadata": {},
   "source": [
    "Observation : Out of all the employees there are more employees in the age range of 30 to 40."
   ]
  },
  {
   "cell_type": "code",
   "execution_count": 263,
   "id": "d1e50b1a",
   "metadata": {},
   "outputs": [],
   "source": [
    "positive_attrition_df = data.loc[data['Attrition'] == 'Yes']\n",
    "negative_attrition_df = data.loc[data['Attrition'] == 'No']"
   ]
  },
  {
   "cell_type": "code",
   "execution_count": 264,
   "id": "dcee617d",
   "metadata": {},
   "outputs": [
    {
     "data": {
      "text/plain": [
       "(array([ 0., 12., 89., 69., 17., 12.,  0.]),\n",
       " array([ 0, 10, 20, 30, 40, 50, 60, 70]),\n",
       " <BarContainer object of 7 artists>)"
      ]
     },
     "execution_count": 264,
     "metadata": {},
     "output_type": "execute_result"
    },
    {
     "data": {
      "image/png": "[encoded data removed]",
      "text/plain": [
       "<Figure size 504x504 with 1 Axes>"
      ]
     },
     "metadata": {
      "needs_background": "light"
     },
     "output_type": "display_data"
    }
   ],
   "source": [
    "#checking which age group are likely to leave the company\n",
    "plt.hist(positive_attrition_df['Age'], bins=np.arange(0,80,10), alpha=0.8, rwidth=0.9)"
   ]
  },
  {
   "cell_type": "markdown",
   "id": "4f79178b",
   "metadata": {},
   "source": [
    "Observation : Employees who's age is in the range of 20 to 40 are more likely to leave the company"
   ]
  },
  {
   "cell_type": "markdown",
   "id": "b9ff7637",
   "metadata": {},
   "source": [
    "#### Business Travel : "
   ]
  },
  {
   "cell_type": "code",
   "execution_count": 265,
   "id": "888d7903",
   "metadata": {},
   "outputs": [
    {
     "name": "stdout",
     "output_type": "stream",
     "text": [
      "['Travel_Rarely' 'Travel_Frequently' 'Non-Travel']\n"
     ]
    }
   ],
   "source": [
    "print(data['BusinessTravel'].unique())"
   ]
  },
  {
   "cell_type": "code",
   "execution_count": 266,
   "id": "f2fbcf39",
   "metadata": {},
   "outputs": [
    {
     "data": {
      "image/png": "[encoded data removed]",
      "text/plain": [
       "<Figure size 504x504 with 1 Axes>"
      ]
     },
     "metadata": {
      "needs_background": "light"
     },
     "output_type": "display_data"
    }
   ],
   "source": [
    "ax = sns.countplot(x=\"BusinessTravel\", hue=\"Attrition\", data=data)\n",
    "for p in ax.patches:\n",
    "    ax.annotate('{}'.format(p.get_height()), (p.get_x(), p.get_height()+1))"
   ]
  },
  {
   "cell_type": "markdown",
   "id": "9bc02026",
   "metadata": {},
   "source": [
    "Observation : From the above plot, travel can not be a factor for attrition. Employee who travel rarely are likely to quit more"
   ]
  },
  {
   "cell_type": "markdown",
   "id": "59d85537",
   "metadata": {},
   "source": [
    "#### Department :"
   ]
  },
  {
   "cell_type": "code",
   "execution_count": 267,
   "id": "66ffb7f2",
   "metadata": {},
   "outputs": [
    {
     "name": "stdout",
     "output_type": "stream",
     "text": [
      "['Cardiology' 'Maternity' 'Neurology']\n"
     ]
    }
   ],
   "source": [
    "print(data['Department'].unique())"
   ]
  },
  {
   "cell_type": "code",
   "execution_count": 268,
   "id": "d3cf53d6",
   "metadata": {},
   "outputs": [
    {
     "data": {
      "image/png": "[encoded data removed]",
      "text/plain": [
       "<Figure size 504x504 with 1 Axes>"
      ]
     },
     "metadata": {
      "needs_background": "light"
     },
     "output_type": "display_data"
    }
   ],
   "source": [
    "ax = sns.countplot(x=\"Department\", hue=\"Attrition\", data=data)\n",
    "for p in ax.patches:\n",
    "    ax.annotate('{}'.format(p.get_height()), (p.get_x(), p.get_height()+1))"
   ]
  },
  {
   "cell_type": "markdown",
   "id": "3882a528",
   "metadata": {},
   "source": [
    "Observation : From the above plot, department cannot be a factor for attrition."
   ]
  },
  {
   "cell_type": "markdown",
   "id": "789da7ff",
   "metadata": {},
   "source": [
    "#### Distance from home :"
   ]
  },
  {
   "cell_type": "code",
   "execution_count": 269,
   "id": "2ec41969",
   "metadata": {},
   "outputs": [
    {
     "data": {
      "text/plain": [
       "(array([965., 297., 215.,   0.,   0.,   0.,   0.]),\n",
       " array([ 0, 10, 20, 30, 40, 50, 60, 70]),\n",
       " <BarContainer object of 7 artists>)"
      ]
     },
     "execution_count": 269,
     "metadata": {},
     "output_type": "execute_result"
    },
    {
     "data": {
      "image/png": "[encoded data removed]",
      "text/plain": [
       "<Figure size 504x504 with 1 Axes>"
      ]
     },
     "metadata": {
      "needs_background": "light"
     },
     "output_type": "display_data"
    }
   ],
   "source": [
    "plt.hist(negative_attrition_df['DistanceFromHome'], bins=np.arange(0,80,10), alpha=0.8, rwidth=0.9)"
   ]
  },
  {
   "cell_type": "code",
   "execution_count": 270,
   "id": "3ceac6f3",
   "metadata": {},
   "outputs": [
    {
     "data": {
      "text/plain": [
       "(array([105.,  44.,  50.,   0.,   0.,   0.,   0.]),\n",
       " array([ 0, 10, 20, 30, 40, 50, 60, 70]),\n",
       " <BarContainer object of 7 artists>)"
      ]
     },
     "execution_count": 270,
     "metadata": {},
     "output_type": "execute_result"
    },
    {
     "data": {
      "image/png": "[encoded data removed]",
      "text/plain": [
       "<Figure size 504x504 with 1 Axes>"
      ]
     },
     "metadata": {
      "needs_background": "light"
     },
     "output_type": "display_data"
    }
   ],
   "source": [
    "plt.hist(positive_attrition_df['DistanceFromHome'], bins=np.arange(0,80,10), alpha=0.8, rwidth=0.9)"
   ]
  },
  {
   "cell_type": "markdown",
   "id": "990cc5b7",
   "metadata": {},
   "source": [
    "Observation : people who live near by 0-10 miles are likely to quit more based on the data"
   ]
  },
  {
   "cell_type": "markdown",
   "id": "6870df6f",
   "metadata": {},
   "source": [
    "#### Education :"
   ]
  },
  {
   "cell_type": "code",
   "execution_count": 271,
   "id": "ec66986e",
   "metadata": {},
   "outputs": [
    {
     "name": "stdout",
     "output_type": "stream",
     "text": [
      "[2 1 4 3 5]\n"
     ]
    }
   ],
   "source": [
    "print(data['Education'].unique())"
   ]
  },
  {
   "cell_type": "code",
   "execution_count": 272,
   "id": "92b5fd11",
   "metadata": {},
   "outputs": [
    {
     "data": {
      "image/png": "[encoded data removed]",
      "text/plain": [
       "<Figure size 504x504 with 1 Axes>"
      ]
     },
     "metadata": {
      "needs_background": "light"
     },
     "output_type": "display_data"
    }
   ],
   "source": [
    "ax = sns.countplot(x=\"Education\", hue=\"Attrition\", data=data)\n",
    "for p in ax.patches:\n",
    "    ax.annotate('{}'.format(p.get_height()), (p.get_x(), p.get_height()+1))"
   ]
  },
  {
   "cell_type": "markdown",
   "id": "90eff6f7",
   "metadata": {},
   "source": [
    "Observation: Employees with education level 3 & 4 are likely to quit more than other education level employees in the company"
   ]
  },
  {
   "cell_type": "markdown",
   "id": "7c9bdf9b",
   "metadata": {},
   "source": [
    "#### Gender :"
   ]
  },
  {
   "cell_type": "code",
   "execution_count": 273,
   "id": "7321bab4",
   "metadata": {},
   "outputs": [
    {
     "name": "stdout",
     "output_type": "stream",
     "text": [
      "['Female' 'Male']\n"
     ]
    }
   ],
   "source": [
    "print(data['Gender'].unique())"
   ]
  },
  {
   "cell_type": "code",
   "execution_count": 274,
   "id": "1958ff90",
   "metadata": {},
   "outputs": [
    {
     "name": "stdout",
     "output_type": "stream",
     "text": [
      "Male      998\n",
      "Female    678\n",
      "Name: Gender, dtype: int64\n"
     ]
    }
   ],
   "source": [
    "print(data['Gender'].value_counts())"
   ]
  },
  {
   "cell_type": "code",
   "execution_count": 275,
   "id": "db87cd4a",
   "metadata": {},
   "outputs": [
    {
     "data": {
      "image/png": "[encoded data removed]",
      "text/plain": [
       "<Figure size 504x504 with 1 Axes>"
      ]
     },
     "metadata": {
      "needs_background": "light"
     },
     "output_type": "display_data"
    }
   ],
   "source": [
    "ax = sns.countplot(x=\"Gender\", hue=\"Attrition\", data=data)\n",
    "for p in ax.patches:\n",
    "    ax.annotate('{}'.format(p.get_height()), (p.get_x(), p.get_height()+1))"
   ]
  },
  {
   "cell_type": "markdown",
   "id": "a56220d6",
   "metadata": {},
   "source": [
    "Observation : From the above plot, we can infer that male employees are likely to leave organization as they amount to 59% compared to female."
   ]
  },
  {
   "cell_type": "markdown",
   "id": "ab265fb8",
   "metadata": {},
   "source": [
    "#### Job role :"
   ]
  },
  {
   "cell_type": "code",
   "execution_count": 276,
   "id": "597040bf",
   "metadata": {},
   "outputs": [
    {
     "name": "stdout",
     "output_type": "stream",
     "text": [
      "['Nurse' 'Other' 'Therapist' 'Administrative' 'Admin']\n"
     ]
    }
   ],
   "source": [
    "print(data['JobRole'].unique())"
   ]
  },
  {
   "cell_type": "code",
   "execution_count": 277,
   "id": "f35944ac",
   "metadata": {},
   "outputs": [
    {
     "data": {
      "image/png": "[encoded data removed]",
      "text/plain": [
       "<Figure size 504x504 with 1 Axes>"
      ]
     },
     "metadata": {
      "needs_background": "light"
     },
     "output_type": "display_data"
    }
   ],
   "source": [
    "ax = sns.countplot(x=\"JobRole\", hue=\"Attrition\", data=data)\n",
    "for p in ax.patches:\n",
    "    ax.annotate('{}'.format(p.get_height()), (p.get_x(), p.get_height()+1))"
   ]
  },
  {
   "cell_type": "markdown",
   "id": "293edcf7",
   "metadata": {},
   "source": [
    "Observation : Most employees with 'Nurse' job role and 'other' job role tend to quit their jobs based on the above plot."
   ]
  },
  {
   "cell_type": "markdown",
   "id": "5b9301ae",
   "metadata": {},
   "source": [
    "#### Marital Status :"
   ]
  },
  {
   "cell_type": "code",
   "execution_count": 278,
   "id": "63fcdb2d",
   "metadata": {},
   "outputs": [
    {
     "name": "stdout",
     "output_type": "stream",
     "text": [
      "['Single' 'Married' 'Divorced']\n"
     ]
    }
   ],
   "source": [
    "print(data['MaritalStatus'].unique())"
   ]
  },
  {
   "cell_type": "code",
   "execution_count": 279,
   "id": "0a42a31e",
   "metadata": {},
   "outputs": [
    {
     "name": "stdout",
     "output_type": "stream",
     "text": [
      "Married     777\n",
      "Single      522\n",
      "Divorced    377\n",
      "Name: MaritalStatus, dtype: int64\n"
     ]
    }
   ],
   "source": [
    "print(data['MaritalStatus'].value_counts())"
   ]
  },
  {
   "cell_type": "code",
   "execution_count": 280,
   "id": "ab11b038",
   "metadata": {},
   "outputs": [
    {
     "name": "stdout",
     "output_type": "stream",
     "text": [
      "Single      114\n",
      "Married      61\n",
      "Divorced     24\n",
      "Name: MaritalStatus, dtype: int64\n"
     ]
    }
   ],
   "source": [
    "print(positive_attrition_df['MaritalStatus'].value_counts())"
   ]
  },
  {
   "cell_type": "code",
   "execution_count": 281,
   "id": "6635e908",
   "metadata": {},
   "outputs": [
    {
     "data": {
      "text/plain": [
       "<AxesSubplot:>"
      ]
     },
     "execution_count": 281,
     "metadata": {},
     "output_type": "execute_result"
    },
    {
     "data": {
      "image/png": "[encoded data removed]",
      "text/plain": [
       "<Figure size 504x504 with 1 Axes>"
      ]
     },
     "metadata": {
      "needs_background": "light"
     },
     "output_type": "display_data"
    }
   ],
   "source": [
    "positive_attrition_df['MaritalStatus'].value_counts().plot(kind='bar')"
   ]
  },
  {
   "cell_type": "markdown",
   "id": "f641f2a4",
   "metadata": {},
   "source": [
    "Observation : Most of the employees who are single are tend to quit more"
   ]
  },
  {
   "cell_type": "markdown",
   "id": "bea19742",
   "metadata": {},
   "source": [
    "#### Monthly Income :"
   ]
  },
  {
   "cell_type": "code",
   "execution_count": 282,
   "id": "fa46d2a3",
   "metadata": {},
   "outputs": [
    {
     "data": {
      "text/plain": [
       "<matplotlib.legend.Legend at 0x229044c1760>"
      ]
     },
     "execution_count": 282,
     "metadata": {},
     "output_type": "execute_result"
    },
    {
     "data": {
      "image/png": "[encoded data removed]",
      "text/plain": [
       "<Figure size 504x504 with 1 Axes>"
      ]
     },
     "metadata": {
      "needs_background": "light"
     },
     "output_type": "display_data"
    }
   ],
   "source": [
    "sns.distplot(negative_attrition_df['MonthlyIncome'], label='Negative attrition')\n",
    "sns.distplot(positive_attrition_df['MonthlyIncome'], label='positive attrition')\n",
    "plt.legend()"
   ]
  },
  {
   "cell_type": "markdown",
   "id": "1ac5c163",
   "metadata": {},
   "source": [
    "Observation : From the above plot, employees who are paid less are more likely to leave the company"
   ]
  },
  {
   "cell_type": "markdown",
   "id": "d712a42d",
   "metadata": {},
   "source": [
    "#### Hourly rate :"
   ]
  },
  {
   "cell_type": "code",
   "execution_count": 283,
   "id": "ba88055c",
   "metadata": {},
   "outputs": [
    {
     "name": "stdout",
     "output_type": "stream",
     "text": [
      "65.739336492891\n",
      "63.472361809045225\n"
     ]
    },
    {
     "data": {
      "text/plain": [
       "<seaborn.axisgrid.FacetGrid at 0x229041077f0>"
      ]
     },
     "execution_count": 283,
     "metadata": {},
     "output_type": "execute_result"
    },
    {
     "data": {
      "image/png": "[encoded data removed]",
      "text/plain": [
       "<Figure size 1132x360 with 1 Axes>"
      ]
     },
     "metadata": {
      "needs_background": "light"
     },
     "output_type": "display_data"
    }
   ],
   "source": [
    "# employee distribution by HourlyRate, with distinct Attrition classes\n",
    "print(data[data.Attrition=='No']['HourlyRate'].mean())\n",
    "print(data[data.Attrition=='Yes']['HourlyRate'].mean())\n",
    "sns.axes_style('whitegrid')\n",
    "sns.catplot('HourlyRate', data=data, aspect=3, kind='count', hue='Attrition', palette=['C0', 'C1']).set_ylabels('Number of Employees')"
   ]
  },
  {
   "cell_type": "markdown",
   "id": "bedcb19f",
   "metadata": {},
   "source": [
    "Observation : Both attrition classes have similar distribution at different hourly rates ranging from 30 to 100. Hourly rate seems to have very less effect on employee attrition."
   ]
  },
  {
   "cell_type": "markdown",
   "id": "bc324414",
   "metadata": {},
   "source": [
    "#### Overtime :"
   ]
  },
  {
   "cell_type": "code",
   "execution_count": 284,
   "id": "f433abae",
   "metadata": {},
   "outputs": [
    {
     "name": "stdout",
     "output_type": "stream",
     "text": [
      "['Yes' 'No']\n"
     ]
    }
   ],
   "source": [
    "print(data['OverTime'].unique())"
   ]
  },
  {
   "cell_type": "code",
   "execution_count": 285,
   "id": "84e76640",
   "metadata": {},
   "outputs": [
    {
     "data": {
      "text/plain": [
       "Text(0.5, 1.0, 'Attrition')"
      ]
     },
     "execution_count": 285,
     "metadata": {},
     "output_type": "execute_result"
    },
    {
     "data": {
      "image/png": "[encoded data removed]",
      "text/plain": [
       "<Figure size 504x504 with 1 Axes>"
      ]
     },
     "metadata": {
      "needs_background": "light"
     },
     "output_type": "display_data"
    }
   ],
   "source": [
    "data['OverTime'].value_counts().plot(kind='bar', color=('C0','C1')).set_title('Attrition')"
   ]
  },
  {
   "cell_type": "code",
   "execution_count": 286,
   "id": "5bd6a9d8",
   "metadata": {},
   "outputs": [
    {
     "data": {
      "text/plain": [
       "<seaborn.axisgrid.FacetGrid at 0x22903f17d30>"
      ]
     },
     "execution_count": 286,
     "metadata": {},
     "output_type": "execute_result"
    },
    {
     "data": {
      "image/png": "[encoded data removed]",
      "text/plain": [
       "<Figure size 412x360 with 1 Axes>"
      ]
     },
     "metadata": {
      "needs_background": "light"
     },
     "output_type": "display_data"
    }
   ],
   "source": [
    "# employee distribution by OverTime, with distinct Attrition classes\n",
    "sns.axes_style('whitegrid')\n",
    "sns.factorplot(\"OverTime\", data=data, aspect=1, kind='count', hue='Attrition').set_ylabels('Number of Employees')"
   ]
  },
  {
   "cell_type": "markdown",
   "id": "12dc97c4",
   "metadata": {},
   "source": [
    "Observation : The no. of employees who tend to do overtime has the high number in employee attrition than the employees who don't do overtime.So, overtime has little effect on employee attrition."
   ]
  },
  {
   "cell_type": "markdown",
   "id": "74c1c74b",
   "metadata": {},
   "source": [
    "## Extracting target label from input data : "
   ]
  },
  {
   "cell_type": "code",
   "execution_count": 287,
   "id": "470a9885",
   "metadata": {},
   "outputs": [],
   "source": [
    "data['Attrition']=data['Attrition'].replace('Yes', 1)\n",
    "data['Attrition']=data['Attrition'].replace('No', 0)"
   ]
  },
  {
   "cell_type": "code",
   "execution_count": 288,
   "id": "1f7fa1b0",
   "metadata": {},
   "outputs": [],
   "source": [
    "target_data = data[['Attrition']]"
   ]
  },
  {
   "cell_type": "code",
   "execution_count": 289,
   "id": "dfc7bba2",
   "metadata": {},
   "outputs": [
    {
     "data": {
      "text/plain": [
       "(1676, 1)"
      ]
     },
     "execution_count": 289,
     "metadata": {},
     "output_type": "execute_result"
    }
   ],
   "source": [
    "target_data.shape"
   ]
  },
  {
   "cell_type": "code",
   "execution_count": 290,
   "id": "4cd438af",
   "metadata": {},
   "outputs": [],
   "source": [
    "data = data.drop(['Attrition'], axis=1)"
   ]
  },
  {
   "cell_type": "code",
   "execution_count": 291,
   "id": "a55e7a8f",
   "metadata": {},
   "outputs": [
    {
     "data": {
      "text/plain": [
       "(1676, 34)"
      ]
     },
     "execution_count": 291,
     "metadata": {},
     "output_type": "execute_result"
    }
   ],
   "source": [
    "data.shape"
   ]
  },
  {
   "cell_type": "markdown",
   "id": "c5b3b43f",
   "metadata": {},
   "source": [
    "## Categorical Encoding :"
   ]
  },
  {
   "cell_type": "markdown",
   "id": "920edb09",
   "metadata": {},
   "source": [
    "Business Travel :"
   ]
  },
  {
   "cell_type": "code",
   "execution_count": 292,
   "id": "865a9f3e",
   "metadata": {},
   "outputs": [
    {
     "data": {
      "text/plain": [
       "array(['Travel_Rarely', 'Travel_Frequently', 'Non-Travel'], dtype=object)"
      ]
     },
     "execution_count": 292,
     "metadata": {},
     "output_type": "execute_result"
    }
   ],
   "source": [
    "data['BusinessTravel'].unique()"
   ]
  },
  {
   "cell_type": "code",
   "execution_count": 293,
   "id": "e07ad326",
   "metadata": {},
   "outputs": [],
   "source": [
    "data['BusinessTravel']=data['BusinessTravel'].replace('Non-Travel', 'Non_Travel')"
   ]
  },
  {
   "cell_type": "code",
   "execution_count": 357,
   "id": "b16c0d38",
   "metadata": {},
   "outputs": [],
   "source": [
    "dum_BusinessTravel = pd.get_dummies(data['BusinessTravel'])"
   ]
  },
  {
   "cell_type": "code",
   "execution_count": 358,
   "id": "59de59b1",
   "metadata": {},
   "outputs": [
    {
     "data": {
      "text/html": [
       "<div>\n",
       "<style scoped>\n",
       "    .dataframe tbody tr th:only-of-type {\n",
       "        vertical-align: middle;\n",
       "    }\n",
       "\n",
       "    .dataframe tbody tr th {\n",
       "        vertical-align: top;\n",
       "    }\n",
       "\n",
       "    .dataframe thead th {\n",
       "        text-align: right;\n",
       "    }\n",
       "</style>\n",
       "<table border=\"1\" class=\"dataframe\">\n",
       "  <thead>\n",
       "    <tr style=\"text-align: right;\">\n",
       "      <th></th>\n",
       "      <th>Non_Travel</th>\n",
       "      <th>Travel_Frequently</th>\n",
       "      <th>Travel_Rarely</th>\n",
       "    </tr>\n",
       "  </thead>\n",
       "  <tbody>\n",
       "    <tr>\n",
       "      <th>0</th>\n",
       "      <td>0</td>\n",
       "      <td>0</td>\n",
       "      <td>1</td>\n",
       "    </tr>\n",
       "    <tr>\n",
       "      <th>1</th>\n",
       "      <td>0</td>\n",
       "      <td>1</td>\n",
       "      <td>0</td>\n",
       "    </tr>\n",
       "    <tr>\n",
       "      <th>2</th>\n",
       "      <td>0</td>\n",
       "      <td>0</td>\n",
       "      <td>1</td>\n",
       "    </tr>\n",
       "    <tr>\n",
       "      <th>3</th>\n",
       "      <td>0</td>\n",
       "      <td>1</td>\n",
       "      <td>0</td>\n",
       "    </tr>\n",
       "    <tr>\n",
       "      <th>4</th>\n",
       "      <td>0</td>\n",
       "      <td>0</td>\n",
       "      <td>1</td>\n",
       "    </tr>\n",
       "    <tr>\n",
       "      <th>...</th>\n",
       "      <td>...</td>\n",
       "      <td>...</td>\n",
       "      <td>...</td>\n",
       "    </tr>\n",
       "    <tr>\n",
       "      <th>1671</th>\n",
       "      <td>0</td>\n",
       "      <td>0</td>\n",
       "      <td>1</td>\n",
       "    </tr>\n",
       "    <tr>\n",
       "      <th>1672</th>\n",
       "      <td>0</td>\n",
       "      <td>0</td>\n",
       "      <td>1</td>\n",
       "    </tr>\n",
       "    <tr>\n",
       "      <th>1673</th>\n",
       "      <td>0</td>\n",
       "      <td>0</td>\n",
       "      <td>1</td>\n",
       "    </tr>\n",
       "    <tr>\n",
       "      <th>1674</th>\n",
       "      <td>0</td>\n",
       "      <td>0</td>\n",
       "      <td>1</td>\n",
       "    </tr>\n",
       "    <tr>\n",
       "      <th>1675</th>\n",
       "      <td>0</td>\n",
       "      <td>0</td>\n",
       "      <td>1</td>\n",
       "    </tr>\n",
       "  </tbody>\n",
       "</table>\n",
       "<p>1676 rows × 3 columns</p>\n",
       "</div>"
      ],
      "text/plain": [
       "      Non_Travel  Travel_Frequently  Travel_Rarely\n",
       "0              0                  0              1\n",
       "1              0                  1              0\n",
       "2              0                  0              1\n",
       "3              0                  1              0\n",
       "4              0                  0              1\n",
       "...          ...                ...            ...\n",
       "1671           0                  0              1\n",
       "1672           0                  0              1\n",
       "1673           0                  0              1\n",
       "1674           0                  0              1\n",
       "1675           0                  0              1\n",
       "\n",
       "[1676 rows x 3 columns]"
      ]
     },
     "execution_count": 358,
     "metadata": {},
     "output_type": "execute_result"
    }
   ],
   "source": [
    "dum_BusinessTravel"
   ]
  },
  {
   "cell_type": "markdown",
   "id": "fdd3848c",
   "metadata": {},
   "source": [
    "Department :"
   ]
  },
  {
   "cell_type": "code",
   "execution_count": 296,
   "id": "32263a8a",
   "metadata": {},
   "outputs": [
    {
     "data": {
      "text/plain": [
       "array(['Cardiology', 'Maternity', 'Neurology'], dtype=object)"
      ]
     },
     "execution_count": 296,
     "metadata": {},
     "output_type": "execute_result"
    }
   ],
   "source": [
    "data['Department'].unique()"
   ]
  },
  {
   "cell_type": "code",
   "execution_count": 359,
   "id": "6e9ec9cb",
   "metadata": {},
   "outputs": [
    {
     "data": {
      "text/html": [
       "<div>\n",
       "<style scoped>\n",
       "    .dataframe tbody tr th:only-of-type {\n",
       "        vertical-align: middle;\n",
       "    }\n",
       "\n",
       "    .dataframe tbody tr th {\n",
       "        vertical-align: top;\n",
       "    }\n",
       "\n",
       "    .dataframe thead th {\n",
       "        text-align: right;\n",
       "    }\n",
       "</style>\n",
       "<table border=\"1\" class=\"dataframe\">\n",
       "  <thead>\n",
       "    <tr style=\"text-align: right;\">\n",
       "      <th></th>\n",
       "      <th>Cardiology</th>\n",
       "      <th>Maternity</th>\n",
       "      <th>Neurology</th>\n",
       "    </tr>\n",
       "  </thead>\n",
       "  <tbody>\n",
       "    <tr>\n",
       "      <th>0</th>\n",
       "      <td>1</td>\n",
       "      <td>0</td>\n",
       "      <td>0</td>\n",
       "    </tr>\n",
       "    <tr>\n",
       "      <th>1</th>\n",
       "      <td>0</td>\n",
       "      <td>1</td>\n",
       "      <td>0</td>\n",
       "    </tr>\n",
       "    <tr>\n",
       "      <th>2</th>\n",
       "      <td>0</td>\n",
       "      <td>1</td>\n",
       "      <td>0</td>\n",
       "    </tr>\n",
       "    <tr>\n",
       "      <th>3</th>\n",
       "      <td>0</td>\n",
       "      <td>1</td>\n",
       "      <td>0</td>\n",
       "    </tr>\n",
       "    <tr>\n",
       "      <th>4</th>\n",
       "      <td>0</td>\n",
       "      <td>1</td>\n",
       "      <td>0</td>\n",
       "    </tr>\n",
       "    <tr>\n",
       "      <th>...</th>\n",
       "      <td>...</td>\n",
       "      <td>...</td>\n",
       "      <td>...</td>\n",
       "    </tr>\n",
       "    <tr>\n",
       "      <th>1671</th>\n",
       "      <td>0</td>\n",
       "      <td>0</td>\n",
       "      <td>1</td>\n",
       "    </tr>\n",
       "    <tr>\n",
       "      <th>1672</th>\n",
       "      <td>1</td>\n",
       "      <td>0</td>\n",
       "      <td>0</td>\n",
       "    </tr>\n",
       "    <tr>\n",
       "      <th>1673</th>\n",
       "      <td>0</td>\n",
       "      <td>1</td>\n",
       "      <td>0</td>\n",
       "    </tr>\n",
       "    <tr>\n",
       "      <th>1674</th>\n",
       "      <td>0</td>\n",
       "      <td>0</td>\n",
       "      <td>1</td>\n",
       "    </tr>\n",
       "    <tr>\n",
       "      <th>1675</th>\n",
       "      <td>1</td>\n",
       "      <td>0</td>\n",
       "      <td>0</td>\n",
       "    </tr>\n",
       "  </tbody>\n",
       "</table>\n",
       "<p>1676 rows × 3 columns</p>\n",
       "</div>"
      ],
      "text/plain": [
       "      Cardiology  Maternity  Neurology\n",
       "0              1          0          0\n",
       "1              0          1          0\n",
       "2              0          1          0\n",
       "3              0          1          0\n",
       "4              0          1          0\n",
       "...          ...        ...        ...\n",
       "1671           0          0          1\n",
       "1672           1          0          0\n",
       "1673           0          1          0\n",
       "1674           0          0          1\n",
       "1675           1          0          0\n",
       "\n",
       "[1676 rows x 3 columns]"
      ]
     },
     "execution_count": 359,
     "metadata": {},
     "output_type": "execute_result"
    }
   ],
   "source": [
    "dum_Department = pd.get_dummies(data['Department'])\n",
    "dum_Department"
   ]
  },
  {
   "cell_type": "markdown",
   "id": "a5c1269d",
   "metadata": {},
   "source": [
    "Education Field :"
   ]
  },
  {
   "cell_type": "code",
   "execution_count": 299,
   "id": "90c9260a",
   "metadata": {},
   "outputs": [
    {
     "data": {
      "text/plain": [
       "array(['Life Sciences', 'Other', 'Medical', 'Marketing',\n",
       "       'Technical Degree', 'Human Resources'], dtype=object)"
      ]
     },
     "execution_count": 299,
     "metadata": {},
     "output_type": "execute_result"
    }
   ],
   "source": [
    "data['EducationField'].unique()"
   ]
  },
  {
   "cell_type": "code",
   "execution_count": 300,
   "id": "40c99af4",
   "metadata": {},
   "outputs": [],
   "source": [
    "data['EducationField']=data['EducationField'].replace('Life Sciences', 'Life_Sciences')\n",
    "data['EducationField']=data['EducationField'].replace('Technical Degree', 'Technical_Degree')\n",
    "data['EducationField']=data['EducationField'].replace('Human Resources', 'Human_Resources')"
   ]
  },
  {
   "cell_type": "code",
   "execution_count": 360,
   "id": "f809ab24",
   "metadata": {},
   "outputs": [
    {
     "data": {
      "text/html": [
       "<div>\n",
       "<style scoped>\n",
       "    .dataframe tbody tr th:only-of-type {\n",
       "        vertical-align: middle;\n",
       "    }\n",
       "\n",
       "    .dataframe tbody tr th {\n",
       "        vertical-align: top;\n",
       "    }\n",
       "\n",
       "    .dataframe thead th {\n",
       "        text-align: right;\n",
       "    }\n",
       "</style>\n",
       "<table border=\"1\" class=\"dataframe\">\n",
       "  <thead>\n",
       "    <tr style=\"text-align: right;\">\n",
       "      <th></th>\n",
       "      <th>Human_Resources</th>\n",
       "      <th>Life_Sciences</th>\n",
       "      <th>Marketing</th>\n",
       "      <th>Medical</th>\n",
       "      <th>Other</th>\n",
       "      <th>Technical_Degree</th>\n",
       "    </tr>\n",
       "  </thead>\n",
       "  <tbody>\n",
       "    <tr>\n",
       "      <th>0</th>\n",
       "      <td>0</td>\n",
       "      <td>1</td>\n",
       "      <td>0</td>\n",
       "      <td>0</td>\n",
       "      <td>0</td>\n",
       "      <td>0</td>\n",
       "    </tr>\n",
       "    <tr>\n",
       "      <th>1</th>\n",
       "      <td>0</td>\n",
       "      <td>1</td>\n",
       "      <td>0</td>\n",
       "      <td>0</td>\n",
       "      <td>0</td>\n",
       "      <td>0</td>\n",
       "    </tr>\n",
       "    <tr>\n",
       "      <th>2</th>\n",
       "      <td>0</td>\n",
       "      <td>0</td>\n",
       "      <td>0</td>\n",
       "      <td>0</td>\n",
       "      <td>1</td>\n",
       "      <td>0</td>\n",
       "    </tr>\n",
       "    <tr>\n",
       "      <th>3</th>\n",
       "      <td>0</td>\n",
       "      <td>1</td>\n",
       "      <td>0</td>\n",
       "      <td>0</td>\n",
       "      <td>0</td>\n",
       "      <td>0</td>\n",
       "    </tr>\n",
       "    <tr>\n",
       "      <th>4</th>\n",
       "      <td>0</td>\n",
       "      <td>0</td>\n",
       "      <td>0</td>\n",
       "      <td>1</td>\n",
       "      <td>0</td>\n",
       "      <td>0</td>\n",
       "    </tr>\n",
       "    <tr>\n",
       "      <th>...</th>\n",
       "      <td>...</td>\n",
       "      <td>...</td>\n",
       "      <td>...</td>\n",
       "      <td>...</td>\n",
       "      <td>...</td>\n",
       "      <td>...</td>\n",
       "    </tr>\n",
       "    <tr>\n",
       "      <th>1671</th>\n",
       "      <td>0</td>\n",
       "      <td>0</td>\n",
       "      <td>0</td>\n",
       "      <td>0</td>\n",
       "      <td>0</td>\n",
       "      <td>1</td>\n",
       "    </tr>\n",
       "    <tr>\n",
       "      <th>1672</th>\n",
       "      <td>0</td>\n",
       "      <td>0</td>\n",
       "      <td>1</td>\n",
       "      <td>0</td>\n",
       "      <td>0</td>\n",
       "      <td>0</td>\n",
       "    </tr>\n",
       "    <tr>\n",
       "      <th>1673</th>\n",
       "      <td>0</td>\n",
       "      <td>1</td>\n",
       "      <td>0</td>\n",
       "      <td>0</td>\n",
       "      <td>0</td>\n",
       "      <td>0</td>\n",
       "    </tr>\n",
       "    <tr>\n",
       "      <th>1674</th>\n",
       "      <td>0</td>\n",
       "      <td>1</td>\n",
       "      <td>0</td>\n",
       "      <td>0</td>\n",
       "      <td>0</td>\n",
       "      <td>0</td>\n",
       "    </tr>\n",
       "    <tr>\n",
       "      <th>1675</th>\n",
       "      <td>0</td>\n",
       "      <td>0</td>\n",
       "      <td>0</td>\n",
       "      <td>1</td>\n",
       "      <td>0</td>\n",
       "      <td>0</td>\n",
       "    </tr>\n",
       "  </tbody>\n",
       "</table>\n",
       "<p>1676 rows × 6 columns</p>\n",
       "</div>"
      ],
      "text/plain": [
       "      Human_Resources  Life_Sciences  Marketing  Medical  Other  \\\n",
       "0                   0              1          0        0      0   \n",
       "1                   0              1          0        0      0   \n",
       "2                   0              0          0        0      1   \n",
       "3                   0              1          0        0      0   \n",
       "4                   0              0          0        1      0   \n",
       "...               ...            ...        ...      ...    ...   \n",
       "1671                0              0          0        0      0   \n",
       "1672                0              0          1        0      0   \n",
       "1673                0              1          0        0      0   \n",
       "1674                0              1          0        0      0   \n",
       "1675                0              0          0        1      0   \n",
       "\n",
       "      Technical_Degree  \n",
       "0                    0  \n",
       "1                    0  \n",
       "2                    0  \n",
       "3                    0  \n",
       "4                    0  \n",
       "...                ...  \n",
       "1671                 1  \n",
       "1672                 0  \n",
       "1673                 0  \n",
       "1674                 0  \n",
       "1675                 0  \n",
       "\n",
       "[1676 rows x 6 columns]"
      ]
     },
     "execution_count": 360,
     "metadata": {},
     "output_type": "execute_result"
    }
   ],
   "source": [
    "dum_EducationField = pd.get_dummies(data['EducationField'])\n",
    "dum_EducationField"
   ]
  },
  {
   "cell_type": "markdown",
   "id": "a12848d2",
   "metadata": {},
   "source": [
    "Gender :"
   ]
  },
  {
   "cell_type": "code",
   "execution_count": 303,
   "id": "e5b696a2",
   "metadata": {},
   "outputs": [
    {
     "data": {
      "text/plain": [
       "array(['Female', 'Male'], dtype=object)"
      ]
     },
     "execution_count": 303,
     "metadata": {},
     "output_type": "execute_result"
    }
   ],
   "source": [
    "data['Gender'].unique()"
   ]
  },
  {
   "cell_type": "code",
   "execution_count": 361,
   "id": "73b79937",
   "metadata": {},
   "outputs": [
    {
     "data": {
      "text/html": [
       "<div>\n",
       "<style scoped>\n",
       "    .dataframe tbody tr th:only-of-type {\n",
       "        vertical-align: middle;\n",
       "    }\n",
       "\n",
       "    .dataframe tbody tr th {\n",
       "        vertical-align: top;\n",
       "    }\n",
       "\n",
       "    .dataframe thead th {\n",
       "        text-align: right;\n",
       "    }\n",
       "</style>\n",
       "<table border=\"1\" class=\"dataframe\">\n",
       "  <thead>\n",
       "    <tr style=\"text-align: right;\">\n",
       "      <th></th>\n",
       "      <th>Female</th>\n",
       "      <th>Male</th>\n",
       "    </tr>\n",
       "  </thead>\n",
       "  <tbody>\n",
       "    <tr>\n",
       "      <th>0</th>\n",
       "      <td>1</td>\n",
       "      <td>0</td>\n",
       "    </tr>\n",
       "    <tr>\n",
       "      <th>1</th>\n",
       "      <td>0</td>\n",
       "      <td>1</td>\n",
       "    </tr>\n",
       "    <tr>\n",
       "      <th>2</th>\n",
       "      <td>0</td>\n",
       "      <td>1</td>\n",
       "    </tr>\n",
       "    <tr>\n",
       "      <th>3</th>\n",
       "      <td>1</td>\n",
       "      <td>0</td>\n",
       "    </tr>\n",
       "    <tr>\n",
       "      <th>4</th>\n",
       "      <td>0</td>\n",
       "      <td>1</td>\n",
       "    </tr>\n",
       "    <tr>\n",
       "      <th>...</th>\n",
       "      <td>...</td>\n",
       "      <td>...</td>\n",
       "    </tr>\n",
       "    <tr>\n",
       "      <th>1671</th>\n",
       "      <td>0</td>\n",
       "      <td>1</td>\n",
       "    </tr>\n",
       "    <tr>\n",
       "      <th>1672</th>\n",
       "      <td>1</td>\n",
       "      <td>0</td>\n",
       "    </tr>\n",
       "    <tr>\n",
       "      <th>1673</th>\n",
       "      <td>1</td>\n",
       "      <td>0</td>\n",
       "    </tr>\n",
       "    <tr>\n",
       "      <th>1674</th>\n",
       "      <td>1</td>\n",
       "      <td>0</td>\n",
       "    </tr>\n",
       "    <tr>\n",
       "      <th>1675</th>\n",
       "      <td>1</td>\n",
       "      <td>0</td>\n",
       "    </tr>\n",
       "  </tbody>\n",
       "</table>\n",
       "<p>1676 rows × 2 columns</p>\n",
       "</div>"
      ],
      "text/plain": [
       "      Female  Male\n",
       "0          1     0\n",
       "1          0     1\n",
       "2          0     1\n",
       "3          1     0\n",
       "4          0     1\n",
       "...      ...   ...\n",
       "1671       0     1\n",
       "1672       1     0\n",
       "1673       1     0\n",
       "1674       1     0\n",
       "1675       1     0\n",
       "\n",
       "[1676 rows x 2 columns]"
      ]
     },
     "execution_count": 361,
     "metadata": {},
     "output_type": "execute_result"
    }
   ],
   "source": [
    "dum_Gender = pd.get_dummies(data['Gender'])\n",
    "dum_Gender"
   ]
  },
  {
   "cell_type": "markdown",
   "id": "4d046c46",
   "metadata": {},
   "source": [
    "Job Role :"
   ]
  },
  {
   "cell_type": "code",
   "execution_count": 305,
   "id": "6d1cd37a",
   "metadata": {},
   "outputs": [
    {
     "data": {
      "text/plain": [
       "array(['Nurse', 'Other', 'Therapist', 'Administrative', 'Admin'],\n",
       "      dtype=object)"
      ]
     },
     "execution_count": 305,
     "metadata": {},
     "output_type": "execute_result"
    }
   ],
   "source": [
    "data['JobRole'].unique()"
   ]
  },
  {
   "cell_type": "code",
   "execution_count": 363,
   "id": "52a6ab6b",
   "metadata": {},
   "outputs": [
    {
     "data": {
      "text/html": [
       "<div>\n",
       "<style scoped>\n",
       "    .dataframe tbody tr th:only-of-type {\n",
       "        vertical-align: middle;\n",
       "    }\n",
       "\n",
       "    .dataframe tbody tr th {\n",
       "        vertical-align: top;\n",
       "    }\n",
       "\n",
       "    .dataframe thead th {\n",
       "        text-align: right;\n",
       "    }\n",
       "</style>\n",
       "<table border=\"1\" class=\"dataframe\">\n",
       "  <thead>\n",
       "    <tr style=\"text-align: right;\">\n",
       "      <th></th>\n",
       "      <th>Admin</th>\n",
       "      <th>Administrative</th>\n",
       "      <th>Nurse</th>\n",
       "      <th>Other</th>\n",
       "      <th>Therapist</th>\n",
       "    </tr>\n",
       "  </thead>\n",
       "  <tbody>\n",
       "    <tr>\n",
       "      <th>0</th>\n",
       "      <td>0</td>\n",
       "      <td>0</td>\n",
       "      <td>1</td>\n",
       "      <td>0</td>\n",
       "      <td>0</td>\n",
       "    </tr>\n",
       "    <tr>\n",
       "      <th>1</th>\n",
       "      <td>0</td>\n",
       "      <td>0</td>\n",
       "      <td>0</td>\n",
       "      <td>1</td>\n",
       "      <td>0</td>\n",
       "    </tr>\n",
       "    <tr>\n",
       "      <th>2</th>\n",
       "      <td>0</td>\n",
       "      <td>0</td>\n",
       "      <td>1</td>\n",
       "      <td>0</td>\n",
       "      <td>0</td>\n",
       "    </tr>\n",
       "    <tr>\n",
       "      <th>3</th>\n",
       "      <td>0</td>\n",
       "      <td>0</td>\n",
       "      <td>0</td>\n",
       "      <td>1</td>\n",
       "      <td>0</td>\n",
       "    </tr>\n",
       "    <tr>\n",
       "      <th>4</th>\n",
       "      <td>0</td>\n",
       "      <td>0</td>\n",
       "      <td>1</td>\n",
       "      <td>0</td>\n",
       "      <td>0</td>\n",
       "    </tr>\n",
       "    <tr>\n",
       "      <th>...</th>\n",
       "      <td>...</td>\n",
       "      <td>...</td>\n",
       "      <td>...</td>\n",
       "      <td>...</td>\n",
       "      <td>...</td>\n",
       "    </tr>\n",
       "    <tr>\n",
       "      <th>1671</th>\n",
       "      <td>0</td>\n",
       "      <td>0</td>\n",
       "      <td>1</td>\n",
       "      <td>0</td>\n",
       "      <td>0</td>\n",
       "    </tr>\n",
       "    <tr>\n",
       "      <th>1672</th>\n",
       "      <td>0</td>\n",
       "      <td>0</td>\n",
       "      <td>1</td>\n",
       "      <td>0</td>\n",
       "      <td>0</td>\n",
       "    </tr>\n",
       "    <tr>\n",
       "      <th>1673</th>\n",
       "      <td>0</td>\n",
       "      <td>0</td>\n",
       "      <td>0</td>\n",
       "      <td>1</td>\n",
       "      <td>0</td>\n",
       "    </tr>\n",
       "    <tr>\n",
       "      <th>1674</th>\n",
       "      <td>0</td>\n",
       "      <td>0</td>\n",
       "      <td>0</td>\n",
       "      <td>0</td>\n",
       "      <td>1</td>\n",
       "    </tr>\n",
       "    <tr>\n",
       "      <th>1675</th>\n",
       "      <td>0</td>\n",
       "      <td>0</td>\n",
       "      <td>1</td>\n",
       "      <td>0</td>\n",
       "      <td>0</td>\n",
       "    </tr>\n",
       "  </tbody>\n",
       "</table>\n",
       "<p>1676 rows × 5 columns</p>\n",
       "</div>"
      ],
      "text/plain": [
       "      Admin  Administrative  Nurse  Other  Therapist\n",
       "0         0               0      1      0          0\n",
       "1         0               0      0      1          0\n",
       "2         0               0      1      0          0\n",
       "3         0               0      0      1          0\n",
       "4         0               0      1      0          0\n",
       "...     ...             ...    ...    ...        ...\n",
       "1671      0               0      1      0          0\n",
       "1672      0               0      1      0          0\n",
       "1673      0               0      0      1          0\n",
       "1674      0               0      0      0          1\n",
       "1675      0               0      1      0          0\n",
       "\n",
       "[1676 rows x 5 columns]"
      ]
     },
     "execution_count": 363,
     "metadata": {},
     "output_type": "execute_result"
    }
   ],
   "source": [
    "dum_JobRole = pd.get_dummies(data['JobRole'])\n",
    "dum_JobRole"
   ]
  },
  {
   "cell_type": "markdown",
   "id": "12129ead",
   "metadata": {},
   "source": [
    "Marital Status :"
   ]
  },
  {
   "cell_type": "code",
   "execution_count": 307,
   "id": "0beafa75",
   "metadata": {},
   "outputs": [
    {
     "data": {
      "text/plain": [
       "array(['Single', 'Married', 'Divorced'], dtype=object)"
      ]
     },
     "execution_count": 307,
     "metadata": {},
     "output_type": "execute_result"
    }
   ],
   "source": [
    "data['MaritalStatus'].unique()"
   ]
  },
  {
   "cell_type": "code",
   "execution_count": 364,
   "id": "f4b93272",
   "metadata": {},
   "outputs": [
    {
     "data": {
      "text/html": [
       "<div>\n",
       "<style scoped>\n",
       "    .dataframe tbody tr th:only-of-type {\n",
       "        vertical-align: middle;\n",
       "    }\n",
       "\n",
       "    .dataframe tbody tr th {\n",
       "        vertical-align: top;\n",
       "    }\n",
       "\n",
       "    .dataframe thead th {\n",
       "        text-align: right;\n",
       "    }\n",
       "</style>\n",
       "<table border=\"1\" class=\"dataframe\">\n",
       "  <thead>\n",
       "    <tr style=\"text-align: right;\">\n",
       "      <th></th>\n",
       "      <th>Divorced</th>\n",
       "      <th>Married</th>\n",
       "      <th>Single</th>\n",
       "    </tr>\n",
       "  </thead>\n",
       "  <tbody>\n",
       "    <tr>\n",
       "      <th>0</th>\n",
       "      <td>0</td>\n",
       "      <td>0</td>\n",
       "      <td>1</td>\n",
       "    </tr>\n",
       "    <tr>\n",
       "      <th>1</th>\n",
       "      <td>0</td>\n",
       "      <td>1</td>\n",
       "      <td>0</td>\n",
       "    </tr>\n",
       "    <tr>\n",
       "      <th>2</th>\n",
       "      <td>0</td>\n",
       "      <td>0</td>\n",
       "      <td>1</td>\n",
       "    </tr>\n",
       "    <tr>\n",
       "      <th>3</th>\n",
       "      <td>0</td>\n",
       "      <td>1</td>\n",
       "      <td>0</td>\n",
       "    </tr>\n",
       "    <tr>\n",
       "      <th>4</th>\n",
       "      <td>0</td>\n",
       "      <td>1</td>\n",
       "      <td>0</td>\n",
       "    </tr>\n",
       "    <tr>\n",
       "      <th>...</th>\n",
       "      <td>...</td>\n",
       "      <td>...</td>\n",
       "      <td>...</td>\n",
       "    </tr>\n",
       "    <tr>\n",
       "      <th>1671</th>\n",
       "      <td>0</td>\n",
       "      <td>0</td>\n",
       "      <td>1</td>\n",
       "    </tr>\n",
       "    <tr>\n",
       "      <th>1672</th>\n",
       "      <td>0</td>\n",
       "      <td>1</td>\n",
       "      <td>0</td>\n",
       "    </tr>\n",
       "    <tr>\n",
       "      <th>1673</th>\n",
       "      <td>0</td>\n",
       "      <td>0</td>\n",
       "      <td>1</td>\n",
       "    </tr>\n",
       "    <tr>\n",
       "      <th>1674</th>\n",
       "      <td>0</td>\n",
       "      <td>1</td>\n",
       "      <td>0</td>\n",
       "    </tr>\n",
       "    <tr>\n",
       "      <th>1675</th>\n",
       "      <td>0</td>\n",
       "      <td>0</td>\n",
       "      <td>1</td>\n",
       "    </tr>\n",
       "  </tbody>\n",
       "</table>\n",
       "<p>1676 rows × 3 columns</p>\n",
       "</div>"
      ],
      "text/plain": [
       "      Divorced  Married  Single\n",
       "0            0        0       1\n",
       "1            0        1       0\n",
       "2            0        0       1\n",
       "3            0        1       0\n",
       "4            0        1       0\n",
       "...        ...      ...     ...\n",
       "1671         0        0       1\n",
       "1672         0        1       0\n",
       "1673         0        0       1\n",
       "1674         0        1       0\n",
       "1675         0        0       1\n",
       "\n",
       "[1676 rows x 3 columns]"
      ]
     },
     "execution_count": 364,
     "metadata": {},
     "output_type": "execute_result"
    }
   ],
   "source": [
    "dum_MaritalStatus = pd.get_dummies(data['MaritalStatus'])\n",
    "dum_MaritalStatus"
   ]
  },
  {
   "cell_type": "markdown",
   "id": "35c7cb0b",
   "metadata": {},
   "source": [
    "Over Time :"
   ]
  },
  {
   "cell_type": "code",
   "execution_count": 365,
   "id": "cc23c2db",
   "metadata": {},
   "outputs": [
    {
     "data": {
      "text/html": [
       "<div>\n",
       "<style scoped>\n",
       "    .dataframe tbody tr th:only-of-type {\n",
       "        vertical-align: middle;\n",
       "    }\n",
       "\n",
       "    .dataframe tbody tr th {\n",
       "        vertical-align: top;\n",
       "    }\n",
       "\n",
       "    .dataframe thead th {\n",
       "        text-align: right;\n",
       "    }\n",
       "</style>\n",
       "<table border=\"1\" class=\"dataframe\">\n",
       "  <thead>\n",
       "    <tr style=\"text-align: right;\">\n",
       "      <th></th>\n",
       "      <th>No</th>\n",
       "      <th>Yes</th>\n",
       "    </tr>\n",
       "  </thead>\n",
       "  <tbody>\n",
       "    <tr>\n",
       "      <th>0</th>\n",
       "      <td>0</td>\n",
       "      <td>1</td>\n",
       "    </tr>\n",
       "    <tr>\n",
       "      <th>1</th>\n",
       "      <td>1</td>\n",
       "      <td>0</td>\n",
       "    </tr>\n",
       "    <tr>\n",
       "      <th>2</th>\n",
       "      <td>0</td>\n",
       "      <td>1</td>\n",
       "    </tr>\n",
       "    <tr>\n",
       "      <th>3</th>\n",
       "      <td>0</td>\n",
       "      <td>1</td>\n",
       "    </tr>\n",
       "    <tr>\n",
       "      <th>4</th>\n",
       "      <td>1</td>\n",
       "      <td>0</td>\n",
       "    </tr>\n",
       "    <tr>\n",
       "      <th>...</th>\n",
       "      <td>...</td>\n",
       "      <td>...</td>\n",
       "    </tr>\n",
       "    <tr>\n",
       "      <th>1671</th>\n",
       "      <td>0</td>\n",
       "      <td>1</td>\n",
       "    </tr>\n",
       "    <tr>\n",
       "      <th>1672</th>\n",
       "      <td>0</td>\n",
       "      <td>1</td>\n",
       "    </tr>\n",
       "    <tr>\n",
       "      <th>1673</th>\n",
       "      <td>1</td>\n",
       "      <td>0</td>\n",
       "    </tr>\n",
       "    <tr>\n",
       "      <th>1674</th>\n",
       "      <td>1</td>\n",
       "      <td>0</td>\n",
       "    </tr>\n",
       "    <tr>\n",
       "      <th>1675</th>\n",
       "      <td>1</td>\n",
       "      <td>0</td>\n",
       "    </tr>\n",
       "  </tbody>\n",
       "</table>\n",
       "<p>1676 rows × 2 columns</p>\n",
       "</div>"
      ],
      "text/plain": [
       "      No  Yes\n",
       "0      0    1\n",
       "1      1    0\n",
       "2      0    1\n",
       "3      0    1\n",
       "4      1    0\n",
       "...   ..  ...\n",
       "1671   0    1\n",
       "1672   0    1\n",
       "1673   1    0\n",
       "1674   1    0\n",
       "1675   1    0\n",
       "\n",
       "[1676 rows x 2 columns]"
      ]
     },
     "execution_count": 365,
     "metadata": {},
     "output_type": "execute_result"
    }
   ],
   "source": [
    "dum_OverTime = pd.get_dummies(data['OverTime'])\n",
    "dum_OverTime"
   ]
  },
  {
   "cell_type": "markdown",
   "id": "a361f58a",
   "metadata": {},
   "source": [
    "## Numerical Encoding :"
   ]
  },
  {
   "cell_type": "code",
   "execution_count": 310,
   "id": "05de7b68",
   "metadata": {},
   "outputs": [],
   "source": [
    "normalizer = Normalizer()\n",
    "normalizer.fit(data['Age'].values.reshape(-1,1))\n",
    "Age_encoded = normalizer.transform(data['Age'].values.reshape(-1,1))"
   ]
  },
  {
   "cell_type": "code",
   "execution_count": 311,
   "id": "10269dec",
   "metadata": {},
   "outputs": [],
   "source": [
    "normalizer = Normalizer()\n",
    "normalizer.fit(data['DailyRate'].values.reshape(-1,1))\n",
    "DailyRate_encoded = normalizer.transform(data['DailyRate'].values.reshape(-1,1))"
   ]
  },
  {
   "cell_type": "code",
   "execution_count": 312,
   "id": "4c231a66",
   "metadata": {},
   "outputs": [],
   "source": [
    "normalizer = Normalizer()\n",
    "normalizer.fit(data['DistanceFromHome'].values.reshape(-1,1))\n",
    "DistanceFromHome_encoded = normalizer.transform(data['DistanceFromHome'].values.reshape(-1,1))"
   ]
  },
  {
   "cell_type": "code",
   "execution_count": 313,
   "id": "9b673aaf",
   "metadata": {},
   "outputs": [],
   "source": [
    "normalizer = Normalizer()\n",
    "normalizer.fit(data['HourlyRate'].values.reshape(-1,1))\n",
    "HourlyRate_encoded = normalizer.transform(data['HourlyRate'].values.reshape(-1,1))"
   ]
  },
  {
   "cell_type": "code",
   "execution_count": 314,
   "id": "8e0b5a24",
   "metadata": {},
   "outputs": [],
   "source": [
    "normalizer = Normalizer()\n",
    "normalizer.fit(data['MonthlyIncome'].values.reshape(-1,1))\n",
    "MonthlyIncome_encoded = normalizer.transform(data['MonthlyIncome'].values.reshape(-1,1))"
   ]
  },
  {
   "cell_type": "code",
   "execution_count": 315,
   "id": "44aa462a",
   "metadata": {},
   "outputs": [],
   "source": [
    "normalizer = Normalizer()\n",
    "normalizer.fit(data['MonthlyRate'].values.reshape(-1,1))\n",
    "MonthlyRate_encoded = normalizer.transform(data['MonthlyRate'].values.reshape(-1,1))"
   ]
  },
  {
   "cell_type": "code",
   "execution_count": 316,
   "id": "3acc2dac",
   "metadata": {},
   "outputs": [],
   "source": [
    "normalizer = Normalizer()\n",
    "normalizer.fit(data['NumCompaniesWorked'].values.reshape(-1,1))\n",
    "NumCompaniesWorked_encoded = normalizer.transform(data['NumCompaniesWorked'].values.reshape(-1,1))"
   ]
  },
  {
   "cell_type": "code",
   "execution_count": 317,
   "id": "b8717202",
   "metadata": {},
   "outputs": [],
   "source": [
    "normalizer = Normalizer()\n",
    "normalizer.fit(data['PercentSalaryHike'].values.reshape(-1,1))\n",
    "PercentSalaryHike_encoded = normalizer.transform(data['PercentSalaryHike'].values.reshape(-1,1))"
   ]
  },
  {
   "cell_type": "code",
   "execution_count": 318,
   "id": "1485f8d4",
   "metadata": {},
   "outputs": [],
   "source": [
    "normalizer = Normalizer()\n",
    "normalizer.fit(data['TotalWorkingYears'].values.reshape(-1,1))\n",
    "TotalWorkingYears_encoded = normalizer.transform(data['TotalWorkingYears'].values.reshape(-1,1))"
   ]
  },
  {
   "cell_type": "code",
   "execution_count": 319,
   "id": "6d0532c5",
   "metadata": {},
   "outputs": [],
   "source": [
    "normalizer = Normalizer()\n",
    "normalizer.fit(data['YearsAtCompany'].values.reshape(-1,1))\n",
    "YearsAtCompany_encoded = normalizer.transform(data['YearsAtCompany'].values.reshape(-1,1))"
   ]
  },
  {
   "cell_type": "code",
   "execution_count": 320,
   "id": "ffba496c",
   "metadata": {},
   "outputs": [],
   "source": [
    "normalizer = Normalizer()\n",
    "normalizer.fit(data['YearsInCurrentRole'].values.reshape(-1,1))\n",
    "YearsInCurrentRole_encoded = normalizer.transform(data['YearsInCurrentRole'].values.reshape(-1,1))"
   ]
  },
  {
   "cell_type": "code",
   "execution_count": 321,
   "id": "de013935",
   "metadata": {},
   "outputs": [],
   "source": [
    "normalizer = Normalizer()\n",
    "normalizer.fit(data['YearsSinceLastPromotion'].values.reshape(-1,1))\n",
    "YearsSinceLastPromotion_encoded = normalizer.transform(data['YearsSinceLastPromotion'].values.reshape(-1,1))"
   ]
  },
  {
   "cell_type": "code",
   "execution_count": 322,
   "id": "7b18d90c",
   "metadata": {},
   "outputs": [],
   "source": [
    "normalizer = Normalizer()\n",
    "normalizer.fit(data['YearsWithCurrManager'].values.reshape(-1,1))\n",
    "YearsWithCurrManager_encoded = normalizer.transform(data['YearsWithCurrManager'].values.reshape(-1,1))"
   ]
  },
  {
   "cell_type": "code",
   "execution_count": 375,
   "id": "c1aeffa7",
   "metadata": {},
   "outputs": [
    {
     "data": {
      "text/plain": [
       "(1676, 1)"
      ]
     },
     "execution_count": 375,
     "metadata": {},
     "output_type": "execute_result"
    }
   ],
   "source": [
    "EnvironmentSatisfaction = np.array(data['EnvironmentSatisfaction'])\n",
    "EnvironmentSatisfaction = np.expand_dims(EnvironmentSatisfaction, -1)\n",
    "EnvironmentSatisfaction.shape"
   ]
  },
  {
   "cell_type": "code",
   "execution_count": 376,
   "id": "b3f08635",
   "metadata": {},
   "outputs": [
    {
     "data": {
      "text/plain": [
       "(1676, 1)"
      ]
     },
     "execution_count": 376,
     "metadata": {},
     "output_type": "execute_result"
    }
   ],
   "source": [
    "Education = np.array(data['Education'])\n",
    "Education = np.expand_dims(Education, -1)\n",
    "Education.shape"
   ]
  },
  {
   "cell_type": "code",
   "execution_count": 374,
   "id": "81b77157",
   "metadata": {},
   "outputs": [],
   "source": [
    "JobInvolvement= np.array(data['JobInvolvement'])\n",
    "JobInvolvement = np.expand_dims(JobInvolvement, -1)\n",
    "JobLevel= np.array(data['JobLevel'])\n",
    "JobLevel = np.expand_dims(JobLevel, -1)\n",
    "JobSatisfaction = np.array(data['JobSatisfaction'])\n",
    "JobSatisfaction = np.expand_dims(JobSatisfaction, -1)\n",
    "PerformanceRating = np.array(data['PerformanceRating'])\n",
    "PerformanceRating = np.expand_dims(PerformanceRating, -1)\n",
    "RelationshipSatisfaction = np.array(data['RelationshipSatisfaction'])\n",
    "RelationshipSatisfaction = np.expand_dims(RelationshipSatisfaction, -1)\n",
    "Shift = np.array(data['Shift'])\n",
    "Shift = np.expand_dims(Shift, -1)\n",
    "WorkLifeBalance = np.array(data['WorkLifeBalance'])\n",
    "WorkLifeBalance = np.expand_dims(WorkLifeBalance, -1)"
   ]
  },
  {
   "cell_type": "markdown",
   "id": "addd75e6",
   "metadata": {},
   "source": [
    "## Concatenating all the features :"
   ]
  },
  {
   "cell_type": "code",
   "execution_count": 377,
   "id": "e8e45716",
   "metadata": {},
   "outputs": [],
   "source": [
    "data_encoded = hstack((Age_encoded,BusinessTravel_ohe,DailyRate_encoded,dum_Department,DistanceFromHome_encoded,Education,dum_EducationField,EnvironmentSatisfaction,dum_Gender,HourlyRate_encoded,JobInvolvement,JobLevel,dum_JobRole,JobSatisfaction,dum_MaritalStatus,MonthlyIncome_encoded,MonthlyRate_encoded,NumCompaniesWorked_encoded,dum_OverTime,PercentSalaryHike_encoded,PerformanceRating,RelationshipSatisfaction,Shift,TotalWorkingYears_encoded,WorkLifeBalance,YearsAtCompany_encoded,YearsInCurrentRole_encoded,YearsSinceLastPromotion_encoded,YearsWithCurrManager_encoded)).tocsr()"
   ]
  },
  {
   "cell_type": "markdown",
   "id": "eecc0f97",
   "metadata": {},
   "source": [
    "## Feature selection :"
   ]
  },
  {
   "cell_type": "code",
   "execution_count": 378,
   "id": "34c5922d",
   "metadata": {},
   "outputs": [],
   "source": [
    "col_values = ['Age','BusinessTravel','DailyRate','Department','DistanceFromHome','Education','EducationField','EnvironmentSatisfaction','Gender','HourlyRate','JobInvolvement','JobRole','JobSatisfaction','MaritalStatus','MonthlyIncome','MonthlyRate','NumCompaniesWorked','OverTime','PercentSalaryHike','PerformanceRating','RelationshipSatisfaction','Shift','TotalWorkingYears','WorkLifeBalance','YearsAtCompany','YearsInCurrentRole','YearsSinceLastPromotion','YearsWithCurrManager']"
   ]
  },
  {
   "cell_type": "code",
   "execution_count": 379,
   "id": "d8847556",
   "metadata": {},
   "outputs": [
    {
     "data": {
      "text/plain": [
       "28"
      ]
     },
     "execution_count": 379,
     "metadata": {},
     "output_type": "execute_result"
    }
   ],
   "source": [
    "len(col_values)"
   ]
  },
  {
   "cell_type": "markdown",
   "id": "31affdb8",
   "metadata": {},
   "source": [
    "Mutual Information : If Mutual information is 0,X and Y are independent.If Mutual information is 1, X and Y are dependent."
   ]
  },
  {
   "cell_type": "code",
   "execution_count": 380,
   "id": "f890b751",
   "metadata": {},
   "outputs": [
    {
     "name": "stdout",
     "output_type": "stream",
     "text": [
      "Shift 0.03462333465684487\n",
      "RelationshipSatisfaction 0.013385135958341763\n",
      "YearsSinceLastPromotion 0.008108135172653083\n",
      "WorkLifeBalance 0.006730559378233583\n",
      "NumCompaniesWorked 0.006318879189306986\n",
      "YearsInCurrentRole 0.0041698910123558475\n",
      "DailyRate 0.003632508425808076\n",
      "HourlyRate 0.003485730118248003\n",
      "YearsWithCurrManager 0.003466491701512836\n",
      "EnvironmentSatisfaction 0.0023495744470875754\n"
     ]
    }
   ],
   "source": [
    "#gives top 10 features having maximum mutual information value\n",
    "feature_scores = mutual_info_classif(data_encoded, target_data)\n",
    "for score, fname in sorted(zip(feature_scores, col_values), reverse=True)[:10]:\n",
    "    print(fname, score)"
   ]
  },
  {
   "cell_type": "markdown",
   "id": "c6f0dcb1",
   "metadata": {},
   "source": [
    "chi-square test :chi-square test is applied to test the independence of two events."
   ]
  },
  {
   "cell_type": "code",
   "execution_count": 381,
   "id": "54cfa7c3",
   "metadata": {},
   "outputs": [
    {
     "name": "stdout",
     "output_type": "stream",
     "text": [
      "Shift 43.31388452831898\n",
      "YearsSinceLastPromotion 17.195639368313845\n",
      "WorkLifeBalance 13.30788294301865\n",
      "DailyRate 10.786731388833127\n",
      "YearsInCurrentRole 9.963921453555042\n",
      "RelationshipSatisfaction 8.641858416627523\n",
      "NumCompaniesWorked 7.623242657595182\n",
      "EnvironmentSatisfaction 5.708681854935265\n",
      "YearsWithCurrManager 4.997906871063573\n",
      "MaritalStatus 2.294831696716124\n"
     ]
    }
   ],
   "source": [
    "#gives top 10 features having maximum chi-square value\n",
    "feature_scores = chi2(data_encoded, target_data)[0]\n",
    "for score, fname in sorted(zip(feature_scores, col_values), reverse=True)[:10]:\n",
    "    print(fname, score)"
   ]
  },
  {
   "cell_type": "markdown",
   "id": "d4a7d771",
   "metadata": {},
   "source": [
    "Based on the above 2 tests , we can select the below features for model development."
   ]
  },
  {
   "cell_type": "markdown",
   "id": "4531557e",
   "metadata": {},
   "source": [
    "'Age','DistanceFromHome','Gender','JobRole','MonthlyIncome','MonthlyRate' ,'OverTime','PercentSalaryHike','PerformanceRating', 'YearsAtCompany','Shift','YearsSinceLastPromotion','WorkLifeBalance','YearsInCurrentRole'"
   ]
  },
  {
   "cell_type": "code",
   "execution_count": 383,
   "id": "3ae73dd7",
   "metadata": {},
   "outputs": [],
   "source": [
    "data_selected = hstack((Age_encoded,DistanceFromHome_encoded,Gender_ohe,dum_JobRole,MonthlyIncome_encoded,MonthlyRate_encoded,dum_OverTime,PercentSalaryHike_encoded,PerformanceRating,YearsAtCompany_encoded,Shift,YearsSinceLastPromotion_encoded,WorkLifeBalance,YearsInCurrentRole_encoded))"
   ]
  },
  {
   "cell_type": "code",
   "execution_count": 406,
   "id": "2729d74c",
   "metadata": {},
   "outputs": [],
   "source": [
    "features = ['Age','DistanceFromHome','Gender_Female','Gender_Male','JobRole_Admin','JobRole_Administrative','JobRole_Nurse','Jobrole_Other','JobRole_Therapist','MonthlyIncome','MonthlyRate' ,'OverTime_No','OverTime_Yes','PercentSalaryHike','PerformanceRating', 'YearsAtCompany','Shift','YearsSinceLastPromotion','WorkLifeBalance','YearsInCurrentRole']"
   ]
  },
  {
   "cell_type": "code",
   "execution_count": 385,
   "id": "b78fe446",
   "metadata": {},
   "outputs": [
    {
     "data": {
      "text/plain": [
       "14"
      ]
     },
     "execution_count": 385,
     "metadata": {},
     "output_type": "execute_result"
    }
   ],
   "source": [
    "len(features)"
   ]
  },
  {
   "cell_type": "markdown",
   "id": "dcd9dd6b",
   "metadata": {},
   "source": [
    "## Split into train,test data"
   ]
  },
  {
   "cell_type": "code",
   "execution_count": 386,
   "id": "60b9940c",
   "metadata": {},
   "outputs": [],
   "source": [
    "# split data to 80:20 ratio for train/test\n",
    "X_train, X_test, y_train, y_test = train_test_split(data_selected, target_data, test_size=.2, random_state=SEED, stratify=target_data)"
   ]
  },
  {
   "cell_type": "code",
   "execution_count": 387,
   "id": "72beec3b",
   "metadata": {},
   "outputs": [
    {
     "name": "stdout",
     "output_type": "stream",
     "text": [
      "X_train (1340, 20)\n",
      "y_train (1340, 1)\n",
      "X_test (336, 20)\n",
      "y_test (336, 1)\n"
     ]
    }
   ],
   "source": [
    "print('X_train', X_train.shape)\n",
    "print('y_train', y_train.shape)\n",
    "print('X_test', X_test.shape)\n",
    "print('y_test', y_test.shape)"
   ]
  },
  {
   "cell_type": "code",
   "execution_count": 388,
   "id": "dacf9204",
   "metadata": {},
   "outputs": [],
   "source": [
    "def performance(cv,scoring):\n",
    "    \n",
    "    kn = KNeighborsClassifier()\n",
    "    s = cross_val_score(kn, data_selected, target_data, cv=cv, scoring=scoring)\n",
    "    print(\"{} Score:\\t{:0.3} ± {:0.3}\".format(\"K Nearest Neighbors\", s.mean().round(3), s.std().round(3)))\n",
    "    \n",
    "    lr = LogisticRegression(class_weight='balanced',random_state=99)\n",
    "    s = cross_val_score(lr, data_selected, target_data, cv=cv, scoring=scoring)\n",
    "    print(\"{} Score:\\t{:0.3} ± {:0.3}\".format(\"Logistic Regression\", s.mean().round(3), s.std().round(3)))\n",
    "\n",
    "    dt = DecisionTreeClassifier(class_weight='balanced',random_state=99)\n",
    "    s = cross_val_score(dt, data_selected, target_data, cv=cv, scoring=scoring)\n",
    "    print(\"{} Score:\\t{:0.3} ± {:0.3}\".format(\"Decision Tree\", s.mean().round(3), s.std().round(3)))\n",
    "\n",
    "    rf = RandomForestClassifier(n_estimators=100,class_weight='balanced',random_state=99)\n",
    "    s = cross_val_score(rf, data_selected, target_data, cv=cv, scoring=scoring)\n",
    "    print(\"{} Score:\\t{:0.3} ± {:0.3}\".format(\"Random Forest\", s.mean().round(3), s.std().round(3)))\n",
    "\n",
    "    gb = GradientBoostingClassifier(n_estimators=100,random_state=99)\n",
    "    s = cross_val_score(gb, data_selected, target_data, cv=cv, scoring=scoring)\n",
    "    print(\"{} Score:\\t{:0.3} ± {:0.3}\".format(\"Gradient Boosting\", s.mean().round(3), s.std().round(3)))"
   ]
  },
  {
   "cell_type": "code",
   "execution_count": 389,
   "id": "c8548629",
   "metadata": {},
   "outputs": [
    {
     "name": "stdout",
     "output_type": "stream",
     "text": [
      "Accuracy :\n",
      "K Nearest Neighbors Score:\t0.879 ± 0.01\n",
      "Logistic Regression Score:\t0.785 ± 0.014\n",
      "Decision Tree Score:\t0.803 ± 0.028\n",
      "Random Forest Score:\t0.847 ± 0.016\n",
      "Gradient Boosting Score:\t0.891 ± 0.008\n"
     ]
    }
   ],
   "source": [
    "cv = StratifiedKFold(n_splits=5,random_state=SEED, shuffle=True)\n",
    "scoring = 'accuracy'\n",
    "print(\"Accuracy :\")\n",
    "performance(cv,scoring)"
   ]
  },
  {
   "cell_type": "code",
   "execution_count": 390,
   "id": "1fe4baf4",
   "metadata": {},
   "outputs": [
    {
     "name": "stdout",
     "output_type": "stream",
     "text": [
      "F1 score:\n",
      "K Nearest Neighbors Score:\t0.337 ± 0.082\n",
      "Logistic Regression Score:\t0.459 ± 0.023\n",
      "Decision Tree Score:\t0.411 ± 0.029\n",
      "Random Forest Score:\t0.454 ± 0.025\n",
      "Gradient Boosting Score:\t0.388 ± 0.057\n"
     ]
    }
   ],
   "source": [
    "scoring = 'f1'\n",
    "print(\"F1 score:\")\n",
    "performance(cv,scoring)"
   ]
  },
  {
   "cell_type": "code",
   "execution_count": 391,
   "id": "4cc6158e",
   "metadata": {},
   "outputs": [
    {
     "name": "stdout",
     "output_type": "stream",
     "text": [
      "Precision :\n",
      "K Nearest Neighbors Score:\t0.477 ± 0.07\n",
      "Logistic Regression Score:\t0.327 ± 0.018\n",
      "Decision Tree Score:\t0.323 ± 0.039\n",
      "Random Forest Score:\t0.398 ± 0.037\n",
      "Gradient Boosting Score:\t0.584 ± 0.065\n"
     ]
    }
   ],
   "source": [
    "scoring = 'precision'\n",
    "print(\"Precision :\")\n",
    "performance(cv,scoring)"
   ]
  },
  {
   "cell_type": "code",
   "execution_count": 392,
   "id": "67fae244",
   "metadata": {},
   "outputs": [
    {
     "name": "stdout",
     "output_type": "stream",
     "text": [
      "Recall :\n",
      "K Nearest Neighbors Score:\t0.266 ± 0.087\n",
      "Logistic Regression Score:\t0.769 ± 0.047\n",
      "Decision Tree Score:\t0.573 ± 0.045\n",
      "Random Forest Score:\t0.538 ± 0.065\n",
      "Gradient Boosting Score:\t0.291 ± 0.051\n"
     ]
    }
   ],
   "source": [
    "scoring = 'recall'\n",
    "print(\"Recall :\")\n",
    "performance(cv,scoring)"
   ]
  },
  {
   "cell_type": "markdown",
   "id": "44f42432",
   "metadata": {},
   "source": [
    "Observations :"
   ]
  },
  {
   "cell_type": "markdown",
   "id": "fd39d022",
   "metadata": {},
   "source": [
    "1. Accuracy is the best performance metric for this case."
   ]
  },
  {
   "cell_type": "markdown",
   "id": "dc5dbfc7",
   "metadata": {},
   "source": [
    "2. Among 5 algorithms Gradient boosting model performs well with  accuracy performance metric"
   ]
  },
  {
   "cell_type": "markdown",
   "id": "5512a6f9",
   "metadata": {},
   "source": [
    "## Modelling :"
   ]
  },
  {
   "cell_type": "code",
   "execution_count": 393,
   "id": "8e61b144",
   "metadata": {},
   "outputs": [],
   "source": [
    "gb = GradientBoostingClassifier(n_estimators=100,random_state=99)\n",
    "y_pred = gb.fit(X_train,y_train).predict(X_test)"
   ]
  },
  {
   "cell_type": "code",
   "execution_count": 394,
   "id": "bda9fdfc",
   "metadata": {},
   "outputs": [
    {
     "name": "stdout",
     "output_type": "stream",
     "text": [
      "Gradient boosting Classification Report \n",
      "\n",
      "              precision    recall  f1-score   support\n",
      "\n",
      "           0       0.92      0.95      0.93       296\n",
      "           1       0.50      0.38      0.43        40\n",
      "\n",
      "    accuracy                           0.88       336\n",
      "   macro avg       0.71      0.66      0.68       336\n",
      "weighted avg       0.87      0.88      0.87       336\n",
      "\n",
      "\n",
      "Gradient boosting Confusion Matrix \n",
      "\n",
      "               predicted_Attrition_no  predicted_Attrition_yes\n",
      "Attrition_no                      281                       15\n",
      "Attrition_yes                      25                       15\n"
     ]
    }
   ],
   "source": [
    "print('Gradient boosting Classification Report \\n')\n",
    "print(classification_report(y_test, y_pred) + '\\n')\n",
    "print('Gradient boosting Confusion Matrix \\n')\n",
    "confusion_matrix = np.array(confusion_matrix(y_test, y_pred))\n",
    "confusion = pd.DataFrame(confusion_matrix, index=['Attrition_no', 'Attrition_yes'],columns=['predicted_Attrition_no','predicted_Attrition_yes'])\n",
    "print(confusion)"
   ]
  },
  {
   "cell_type": "code",
   "execution_count": 407,
   "id": "1ae3373d",
   "metadata": {},
   "outputs": [],
   "source": [
    "features = pd.Series(gb.feature_importances_, index = pd.Series(features).apply(lambda x: x.lower()))\n",
    "features.sort_values(ascending=True,inplace=True)"
   ]
  },
  {
   "cell_type": "code",
   "execution_count": 408,
   "id": "777f83ef",
   "metadata": {},
   "outputs": [
    {
     "data": {
      "image/png": "[encoded data removed]",
      "text/plain": [
       "<Figure size 864x720 with 1 Axes>"
      ]
     },
     "metadata": {},
     "output_type": "display_data"
    }
   ],
   "source": [
    "plt.style.use('ggplot')\n",
    "features.plot(kind = \"bar\", color='r', figsize=(12,10),fontsize=18)\n",
    "plt.xlabel('Importance',fontsize=18)\n",
    "plt.title(\"Feature Importance in Gradient Boosting Model\", fontsize=18);"
   ]
  },
  {
   "cell_type": "markdown",
   "id": "d9d4150f",
   "metadata": {},
   "source": [
    "Observations :"
   ]
  },
  {
   "cell_type": "markdown",
   "id": "6cf86966",
   "metadata": {},
   "source": [
    "1. Shift,Overtime,Years in current role,work life balance are key features for the employee retention based on the above plot."
   ]
  },
  {
   "cell_type": "markdown",
   "id": "ba9275d4",
   "metadata": {},
   "source": [
    "2. We can further improve the model performance by hyper paramenter tuning,ensembling or stacking to better allow for generalization to the unseen data."
   ]
  },
  {
   "cell_type": "markdown",
   "id": "ab0171ca",
   "metadata": {},
   "source": [
    "3. I can further extend by applying XGBoost or LightGBM and they may have provide improvement in model performance"
   ]
  },
  {
   "cell_type": "markdown",
   "id": "d8ddbbca",
   "metadata": {},
   "source": [
    "4.Due to the time constraint,i intentionally ignored to use regularization techniques like Lasso and Ridge ."
   ]
  },
  {
   "cell_type": "markdown",
   "id": "5c4b09c2",
   "metadata": {},
   "source": [
    "5.SelectKBest, RFECV(recursive feature elimination and cross-validated selection) can also be used to fine tune the hyper parameters which result in improved performace"
   ]
  },
  {
   "cell_type": "markdown",
   "id": "2f0cd131",
   "metadata": {},
   "source": [
    "6.Also all the models I used were straight out of the box with default values and no hyperparameter tuning was employed."
   ]
  },
  {
   "cell_type": "markdown",
   "id": "4e00888d",
   "metadata": {},
   "source": [
    "### Ways to reduce employee attrition :"
   ]
  },
  {
   "cell_type": "markdown",
   "id": "d77e3d8a",
   "metadata": {},
   "source": [
    "1. We can reduce the employee attrition by implementing the extra pay for the overtime"
   ]
  },
  {
   "cell_type": "markdown",
   "id": "b6e69ac7",
   "metadata": {},
   "source": [
    "2.By updating and increasing the pay for the roles of the employees periodically based on their performance"
   ]
  },
  {
   "cell_type": "markdown",
   "id": "c7200d7b",
   "metadata": {},
   "source": [
    "3.By implementing work life balance to boost the confidence and performance of the employee"
   ]
  }
 ],
 "metadata": {
  "kernelspec": {
   "display_name": "Python 3 (ipykernel)",
   "language": "python",
   "name": "python3"
  },
  "language_info": {
   "codemirror_mode": {
    "name": "ipython",
    "version": 3
   },
   "file_extension": ".py",
   "mimetype": "text/x-python",
   "name": "python",
   "nbconvert_exporter": "python",
   "pygments_lexer": "ipython3",
   "version": "3.9.7"
  }
 },
 "nbformat": 4,
 "nbformat_minor": 5
}
